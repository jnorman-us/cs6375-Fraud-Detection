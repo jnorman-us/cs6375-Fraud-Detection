{
  "nbformat": 4,
  "nbformat_minor": 0,
  "metadata": {
    "colab": {
      "name": "DJ^2 Project.ipynb",
      "provenance": [],
      "collapsed_sections": []
    },
    "kernelspec": {
      "name": "python3",
      "display_name": "Python 3"
    },
    "language_info": {
      "name": "python"
    }
  },
  "cells": [
    {
      "cell_type": "code",
      "metadata": {
        "colab": {
          "base_uri": "https://localhost:8080/"
        },
        "id": "9LKmkUOCZqfa",
        "outputId": "83cf48f5-e5f6-45f7-9351-1dffcc01f62a"
      },
      "source": [
        "import numpy as np\n",
        "import pandas as pd\n",
        "import math\n",
        "import torch\n",
        "import io\n",
        "import torch.nn as nn\n",
        "import torch.optim as optim\n",
        "import torch.utils as utils\n",
        "from google.colab import files\n",
        "\n",
        "device = 'cuda' if torch.cuda.is_available() else 'cpu'\n",
        "print(f'Using {device} device')"
      ],
      "execution_count": null,
      "outputs": [
        {
          "output_type": "stream",
          "name": "stdout",
          "text": [
            "Using cpu device\n"
          ]
        }
      ]
    },
    {
      "cell_type": "markdown",
      "metadata": {
        "id": "wVspNyztFczs"
      },
      "source": [
        "# Upload and Parse the CSV\n",
        "\n"
      ]
    },
    {
      "cell_type": "code",
      "metadata": {
        "colab": {
          "resources": {
            "http://localhost:8080/nbextensions/google.colab/files.js": {
              "data": "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",
              "ok": true,
              "headers": [
                [
                  "content-type",
                  "application/javascript"
                ]
              ],
              "status": 200,
              "status_text": ""
            }
          },
          "base_uri": "https://localhost:8080/",
          "height": 73
        },
        "id": "GxE88ofSFjsF",
        "outputId": "f3492258-91e8-4cbf-ef06-ed8e7449febb"
      },
      "source": [
        "trainset_file = files.upload()"
      ],
      "execution_count": null,
      "outputs": [
        {
          "output_type": "display_data",
          "data": {
            "text/html": [
              "\n",
              "     <input type=\"file\" id=\"files-62701f88-8f77-45a0-af38-877bc8d3c8cc\" name=\"files[]\" multiple disabled\n",
              "        style=\"border:none\" />\n",
              "     <output id=\"result-62701f88-8f77-45a0-af38-877bc8d3c8cc\">\n",
              "      Upload widget is only available when the cell has been executed in the\n",
              "      current browser session. Please rerun this cell to enable.\n",
              "      </output>\n",
              "      <script src=\"/nbextensions/google.colab/files.js\"></script> "
            ],
            "text/plain": [
              "<IPython.core.display.HTML object>"
            ]
          },
          "metadata": {}
        },
        {
          "output_type": "stream",
          "name": "stdout",
          "text": [
            "Saving trainset.xlsx to trainset (2).xlsx\n"
          ]
        }
      ]
    },
    {
      "cell_type": "markdown",
      "metadata": {
        "id": "gPE433HHGHNg"
      },
      "source": [
        "Read the file with pandas"
      ]
    },
    {
      "cell_type": "code",
      "metadata": {
        "colab": {
          "base_uri": "https://localhost:8080/",
          "height": 669
        },
        "id": "q2urlBzdGM5t",
        "outputId": "3540a3e9-e8dd-49b8-8242-10637785bc61"
      },
      "source": [
        "df = pd.read_excel(io.BytesIO(trainset_file['trainset.xlsx']))\n",
        "df"
      ],
      "execution_count": null,
      "outputs": [
        {
          "output_type": "execute_result",
          "data": {
            "text/html": [
              "<div>\n",
              "<style scoped>\n",
              "    .dataframe tbody tr th:only-of-type {\n",
              "        vertical-align: middle;\n",
              "    }\n",
              "\n",
              "    .dataframe tbody tr th {\n",
              "        vertical-align: top;\n",
              "    }\n",
              "\n",
              "    .dataframe thead th {\n",
              "        text-align: right;\n",
              "    }\n",
              "</style>\n",
              "<table border=\"1\" class=\"dataframe\">\n",
              "  <thead>\n",
              "    <tr style=\"text-align: right;\">\n",
              "      <th></th>\n",
              "      <th>TRAN_AMT</th>\n",
              "      <th>ACCT_PRE_TRAN_AVAIL_BAL</th>\n",
              "      <th>CUST_AGE</th>\n",
              "      <th>OPEN_ACCT_CT</th>\n",
              "      <th>WF_dvc_age</th>\n",
              "      <th>PWD_UPDT_TS</th>\n",
              "      <th>CARR_NAME</th>\n",
              "      <th>RGN_NAME</th>\n",
              "      <th>STATE_PRVNC_TXT</th>\n",
              "      <th>ALERT_TRGR_CD</th>\n",
              "      <th>DVC_TYPE_TXT</th>\n",
              "      <th>AUTHC_PRIM_TYPE_CD</th>\n",
              "      <th>AUTHC_SCNDRY_STAT_TXT</th>\n",
              "      <th>CUST_ZIP</th>\n",
              "      <th>CUST_STATE</th>\n",
              "      <th>PH_NUM_UPDT_TS</th>\n",
              "      <th>CUST_SINCE_DT</th>\n",
              "      <th>TRAN_TS</th>\n",
              "      <th>TRAN_DT</th>\n",
              "      <th>ACTN_CD</th>\n",
              "      <th>ACTN_INTNL_TXT</th>\n",
              "      <th>TRAN_TYPE_CD</th>\n",
              "      <th>ACTVY_DT</th>\n",
              "      <th>FRAUD_NONFRAUD</th>\n",
              "    </tr>\n",
              "  </thead>\n",
              "  <tbody>\n",
              "    <tr>\n",
              "      <th>0</th>\n",
              "      <td>5.38</td>\n",
              "      <td>23619.91</td>\n",
              "      <td>47</td>\n",
              "      <td>4</td>\n",
              "      <td>2777</td>\n",
              "      <td>1/16/2018 11:3:58</td>\n",
              "      <td>cox communications inc.</td>\n",
              "      <td>southwest</td>\n",
              "      <td>nevada</td>\n",
              "      <td>MOBL</td>\n",
              "      <td>NaN</td>\n",
              "      <td>UN_PWD</td>\n",
              "      <td>ALLOW</td>\n",
              "      <td>89002</td>\n",
              "      <td>NV</td>\n",
              "      <td>2/24/2021 15:55:10</td>\n",
              "      <td>1993-01-06</td>\n",
              "      <td>5/3/2021 18:3:58</td>\n",
              "      <td>5/3/2021</td>\n",
              "      <td>SCHPMT</td>\n",
              "      <td>P2P_COMMIT</td>\n",
              "      <td>P2P</td>\n",
              "      <td>5/3/2021</td>\n",
              "      <td>Non-Fraud</td>\n",
              "    </tr>\n",
              "    <tr>\n",
              "      <th>1</th>\n",
              "      <td>65.19</td>\n",
              "      <td>0.00</td>\n",
              "      <td>45</td>\n",
              "      <td>5</td>\n",
              "      <td>2721</td>\n",
              "      <td>NaN</td>\n",
              "      <td>charter communications</td>\n",
              "      <td>southwest</td>\n",
              "      <td>california</td>\n",
              "      <td>MOBL</td>\n",
              "      <td>NaN</td>\n",
              "      <td>FACE_ID</td>\n",
              "      <td>ALLOW</td>\n",
              "      <td>94541</td>\n",
              "      <td>CA</td>\n",
              "      <td>NaN</td>\n",
              "      <td>1971-01-07</td>\n",
              "      <td>1/13/2021 19:19:37</td>\n",
              "      <td>1/13/2021</td>\n",
              "      <td>SCHPMT</td>\n",
              "      <td>P2P_COMMIT</td>\n",
              "      <td>P2P</td>\n",
              "      <td>1/13/2021</td>\n",
              "      <td>Non-Fraud</td>\n",
              "    </tr>\n",
              "    <tr>\n",
              "      <th>2</th>\n",
              "      <td>54.84</td>\n",
              "      <td>34570.63</td>\n",
              "      <td>36</td>\n",
              "      <td>8</td>\n",
              "      <td>1531</td>\n",
              "      <td>12/22/2021 10:42:51</td>\n",
              "      <td>utah broadband llc</td>\n",
              "      <td>mountain</td>\n",
              "      <td>utah</td>\n",
              "      <td>ONLN</td>\n",
              "      <td>DESKTOP</td>\n",
              "      <td>UN_PWD</td>\n",
              "      <td>ALLOW</td>\n",
              "      <td>21811</td>\n",
              "      <td>MD</td>\n",
              "      <td>5/5/2019 1:8:39</td>\n",
              "      <td>1994-02-01</td>\n",
              "      <td>4/8/2021 9:42:51</td>\n",
              "      <td>4/8/2021</td>\n",
              "      <td>SCHPMT</td>\n",
              "      <td>P2P_COMMIT</td>\n",
              "      <td>P2P</td>\n",
              "      <td>4/8/2021</td>\n",
              "      <td>Fraud</td>\n",
              "    </tr>\n",
              "    <tr>\n",
              "      <th>3</th>\n",
              "      <td>0.01</td>\n",
              "      <td>0.00</td>\n",
              "      <td>62</td>\n",
              "      <td>3</td>\n",
              "      <td>835</td>\n",
              "      <td>2/8/2020 7:28:31</td>\n",
              "      <td>t-mobile usa  inc.</td>\n",
              "      <td>southwest</td>\n",
              "      <td>california</td>\n",
              "      <td>MOBL</td>\n",
              "      <td>MOBILE</td>\n",
              "      <td>UN_PWD</td>\n",
              "      <td>ALLOW</td>\n",
              "      <td>89822</td>\n",
              "      <td>NV</td>\n",
              "      <td>2/16/2019 6:45:37</td>\n",
              "      <td>2001-11-01</td>\n",
              "      <td>8/10/2021 15:28:31</td>\n",
              "      <td>8/10/2021</td>\n",
              "      <td>SCHPMT</td>\n",
              "      <td>P2P_COMMIT</td>\n",
              "      <td>P2P</td>\n",
              "      <td>8/10/2021</td>\n",
              "      <td>Non-Fraud</td>\n",
              "    </tr>\n",
              "    <tr>\n",
              "      <th>4</th>\n",
              "      <td>497.08</td>\n",
              "      <td>12725.18</td>\n",
              "      <td>81</td>\n",
              "      <td>2</td>\n",
              "      <td>1095</td>\n",
              "      <td>12/28/2020 12:12:44</td>\n",
              "      <td>cogent communications</td>\n",
              "      <td>south central</td>\n",
              "      <td>texas</td>\n",
              "      <td>MOBL</td>\n",
              "      <td>MOBILE</td>\n",
              "      <td>UN_PWD</td>\n",
              "      <td>CHALLENGE_SUCCESS</td>\n",
              "      <td>84108</td>\n",
              "      <td>UT</td>\n",
              "      <td>5/8/2020 10:27:6</td>\n",
              "      <td>1987-02-07</td>\n",
              "      <td>6/27/2021 11:12:44</td>\n",
              "      <td>6/27/2021</td>\n",
              "      <td>SCHPMT</td>\n",
              "      <td>P2P_COMMIT</td>\n",
              "      <td>P2P</td>\n",
              "      <td>6/27/2021</td>\n",
              "      <td>Fraud</td>\n",
              "    </tr>\n",
              "    <tr>\n",
              "      <th>...</th>\n",
              "      <td>...</td>\n",
              "      <td>...</td>\n",
              "      <td>...</td>\n",
              "      <td>...</td>\n",
              "      <td>...</td>\n",
              "      <td>...</td>\n",
              "      <td>...</td>\n",
              "      <td>...</td>\n",
              "      <td>...</td>\n",
              "      <td>...</td>\n",
              "      <td>...</td>\n",
              "      <td>...</td>\n",
              "      <td>...</td>\n",
              "      <td>...</td>\n",
              "      <td>...</td>\n",
              "      <td>...</td>\n",
              "      <td>...</td>\n",
              "      <td>...</td>\n",
              "      <td>...</td>\n",
              "      <td>...</td>\n",
              "      <td>...</td>\n",
              "      <td>...</td>\n",
              "      <td>...</td>\n",
              "      <td>...</td>\n",
              "    </tr>\n",
              "    <tr>\n",
              "      <th>13995</th>\n",
              "      <td>1937.21</td>\n",
              "      <td>230.75</td>\n",
              "      <td>55</td>\n",
              "      <td>4</td>\n",
              "      <td>142</td>\n",
              "      <td>NaN</td>\n",
              "      <td>cellco partnership dba verizon wireless</td>\n",
              "      <td>southwest</td>\n",
              "      <td>california</td>\n",
              "      <td>MOBL</td>\n",
              "      <td>MOBILE</td>\n",
              "      <td>UN_PWD</td>\n",
              "      <td>ALLOW</td>\n",
              "      <td>92503</td>\n",
              "      <td>CA</td>\n",
              "      <td>7/15/2017 6:58:59</td>\n",
              "      <td>2001-06-05</td>\n",
              "      <td>3/12/2021 12:11:59</td>\n",
              "      <td>3/12/2021</td>\n",
              "      <td>SCHPMT</td>\n",
              "      <td>P2P_COMMIT</td>\n",
              "      <td>P2P</td>\n",
              "      <td>3/12/2021</td>\n",
              "      <td>Non-Fraud</td>\n",
              "    </tr>\n",
              "    <tr>\n",
              "      <th>13996</th>\n",
              "      <td>114.38</td>\n",
              "      <td>0.00</td>\n",
              "      <td>44</td>\n",
              "      <td>10</td>\n",
              "      <td>272</td>\n",
              "      <td>11/2/2017 4:28:20</td>\n",
              "      <td>t-mobile usa  inc.</td>\n",
              "      <td>southwest</td>\n",
              "      <td>california</td>\n",
              "      <td>MOBL</td>\n",
              "      <td>MOBILE</td>\n",
              "      <td>FACE_ID</td>\n",
              "      <td>ALLOW</td>\n",
              "      <td>80478</td>\n",
              "      <td>CO</td>\n",
              "      <td>NaN</td>\n",
              "      <td>2010-06-03</td>\n",
              "      <td>6/11/2021 9:28:20</td>\n",
              "      <td>6/11/2021</td>\n",
              "      <td>SCHPMT</td>\n",
              "      <td>P2P_COMMIT</td>\n",
              "      <td>P2P</td>\n",
              "      <td>6/11/2021</td>\n",
              "      <td>Non-Fraud</td>\n",
              "    </tr>\n",
              "    <tr>\n",
              "      <th>13997</th>\n",
              "      <td>493.00</td>\n",
              "      <td>2848.63</td>\n",
              "      <td>54</td>\n",
              "      <td>3</td>\n",
              "      <td>517</td>\n",
              "      <td>6/3/2021 19:31:15</td>\n",
              "      <td>att services inc</td>\n",
              "      <td>southwest</td>\n",
              "      <td>california</td>\n",
              "      <td>MOBL</td>\n",
              "      <td>DESKTOP</td>\n",
              "      <td>UN_PWD</td>\n",
              "      <td>ALLOW</td>\n",
              "      <td>33579</td>\n",
              "      <td>FL</td>\n",
              "      <td>5/25/2021 8:50:5</td>\n",
              "      <td>1984-10-27</td>\n",
              "      <td>5/16/2021 12:31:15</td>\n",
              "      <td>5/16/2021</td>\n",
              "      <td>SCHPMT</td>\n",
              "      <td>P2P_COMMIT</td>\n",
              "      <td>P2P</td>\n",
              "      <td>5/16/2021</td>\n",
              "      <td>Fraud</td>\n",
              "    </tr>\n",
              "    <tr>\n",
              "      <th>13998</th>\n",
              "      <td>491.64</td>\n",
              "      <td>3163.25</td>\n",
              "      <td>21</td>\n",
              "      <td>3</td>\n",
              "      <td>0</td>\n",
              "      <td>3/2/2020 11:34:54</td>\n",
              "      <td>NaN</td>\n",
              "      <td>NaN</td>\n",
              "      <td>NaN</td>\n",
              "      <td>ONLN</td>\n",
              "      <td>DESKTOP</td>\n",
              "      <td>UN_PWD</td>\n",
              "      <td>ALLOW</td>\n",
              "      <td>91702</td>\n",
              "      <td>CA</td>\n",
              "      <td>NaN</td>\n",
              "      <td>2021-03-01</td>\n",
              "      <td>5/11/2021 12:34:54</td>\n",
              "      <td>5/11/2021</td>\n",
              "      <td>SCHPMT</td>\n",
              "      <td>P2P_COMMIT</td>\n",
              "      <td>P2P</td>\n",
              "      <td>5/11/2021</td>\n",
              "      <td>Fraud</td>\n",
              "    </tr>\n",
              "    <tr>\n",
              "      <th>13999</th>\n",
              "      <td>6.02</td>\n",
              "      <td>0.00</td>\n",
              "      <td>60</td>\n",
              "      <td>6</td>\n",
              "      <td>944</td>\n",
              "      <td>NaN</td>\n",
              "      <td>charter communications inc</td>\n",
              "      <td>south central</td>\n",
              "      <td>texas</td>\n",
              "      <td>MOBL</td>\n",
              "      <td>MOBILE</td>\n",
              "      <td>UN_PWD</td>\n",
              "      <td>ALLOW</td>\n",
              "      <td>7407</td>\n",
              "      <td>NJ</td>\n",
              "      <td>NaN</td>\n",
              "      <td>2013-01-09</td>\n",
              "      <td>2/15/2021 16:38:0</td>\n",
              "      <td>2/15/2021</td>\n",
              "      <td>SCHPMT</td>\n",
              "      <td>P2P_COMMIT</td>\n",
              "      <td>P2P</td>\n",
              "      <td>2/15/2021</td>\n",
              "      <td>Non-Fraud</td>\n",
              "    </tr>\n",
              "  </tbody>\n",
              "</table>\n",
              "<p>14000 rows × 24 columns</p>\n",
              "</div>"
            ],
            "text/plain": [
              "       TRAN_AMT  ACCT_PRE_TRAN_AVAIL_BAL  ...   ACTVY_DT  FRAUD_NONFRAUD\n",
              "0          5.38                 23619.91  ...   5/3/2021       Non-Fraud\n",
              "1         65.19                     0.00  ...  1/13/2021       Non-Fraud\n",
              "2         54.84                 34570.63  ...   4/8/2021           Fraud\n",
              "3          0.01                     0.00  ...  8/10/2021       Non-Fraud\n",
              "4        497.08                 12725.18  ...  6/27/2021           Fraud\n",
              "...         ...                      ...  ...        ...             ...\n",
              "13995   1937.21                   230.75  ...  3/12/2021       Non-Fraud\n",
              "13996    114.38                     0.00  ...  6/11/2021       Non-Fraud\n",
              "13997    493.00                  2848.63  ...  5/16/2021           Fraud\n",
              "13998    491.64                  3163.25  ...  5/11/2021           Fraud\n",
              "13999      6.02                     0.00  ...  2/15/2021       Non-Fraud\n",
              "\n",
              "[14000 rows x 24 columns]"
            ]
          },
          "metadata": {},
          "execution_count": 312
        }
      ]
    },
    {
      "cell_type": "markdown",
      "metadata": {
        "id": "rH_54lo3MuoP"
      },
      "source": [
        "# Format the Data into Training/Testing Tensors"
      ]
    },
    {
      "cell_type": "markdown",
      "metadata": {
        "id": "mchqGbNk0a_J"
      },
      "source": [
        "Let's go ahead and duplicate the dataframe before we make any changes to it."
      ]
    },
    {
      "cell_type": "code",
      "metadata": {
        "id": "Bn4Zn1QQ0ezX"
      },
      "source": [
        "df_cleaned = df.copy()"
      ],
      "execution_count": null,
      "outputs": []
    },
    {
      "cell_type": "markdown",
      "metadata": {
        "id": "tVNLBq3bEXm9"
      },
      "source": [
        "Select a column from the dataframe as the output columns."
      ]
    },
    {
      "cell_type": "code",
      "metadata": {
        "id": "Ya-c6BceEW4F"
      },
      "source": [
        "output_column = 'FRAUD_NONFRAUD'\n",
        "output_labels = ['Non-Fraud', 'Fraud']"
      ],
      "execution_count": null,
      "outputs": []
    },
    {
      "cell_type": "markdown",
      "metadata": {
        "id": "MZpfyZvv2-JS"
      },
      "source": [
        "Fields that are numerical, then normalize the data."
      ]
    },
    {
      "cell_type": "code",
      "metadata": {
        "id": "aA96QlmH29vR"
      },
      "source": [
        "number_fields = [\n",
        "  'TRAN_AMT',\n",
        "  'ACCT_PRE_TRAN_AVAIL_BAL',\n",
        "  'CUST_AGE',\n",
        "  'OPEN_ACCT_CT',\n",
        "  'WF_dvc_age',\n",
        "]\n",
        "\n",
        "def normalizeNumberFields(df, fields):   \n",
        "  for field in fields:\n",
        "    df[field] = (df[field] - df[field].min()) / (df[field].max() - df[field].min())\n",
        "\n",
        "normalizeNumberFields(df_cleaned, number_fields)"
      ],
      "execution_count": null,
      "outputs": []
    },
    {
      "cell_type": "markdown",
      "metadata": {
        "id": "KBC3v-Liyz3j"
      },
      "source": [
        "Create a String Embedder for the various categorical string fields in the dataframe, then store them."
      ]
    },
    {
      "cell_type": "code",
      "metadata": {
        "id": "1TdnKo0ayuuI"
      },
      "source": [
        "string_fields = [\n",
        "  'DVC_TYPE_TXT', \n",
        "  'CARR_NAME', \n",
        "  'RGN_NAME', \n",
        "  'STATE_PRVNC_TXT', \n",
        "  'ALERT_TRGR_CD', \n",
        "  'AUTHC_PRIM_TYPE_CD', \n",
        "  'AUTHC_SCNDRY_STAT_TXT', \n",
        "  'CUST_ZIP',\n",
        "  'CUST_STATE',\n",
        "  'ACTN_CD',\n",
        "  'ACTN_INTNL_TXT',\n",
        "  'TRAN_TYPE_CD',\n",
        "]\n",
        "\n",
        "def categorizeStringFields(df, fields): # takes a column with category strings and formats it to float\n",
        "  field_category_to_number = {} # a 2d dict containing field->categories, category->number\n",
        "  field_category_i = {}\n",
        "  for i, row in df.iterrows():\n",
        "    for field in fields:\n",
        "      value = row[field]\n",
        "      if field not in field_category_to_number: # add field if not seen yet\n",
        "        field_category_to_number[field] = { np.nan: 0 }\n",
        "        field_category_i[field] = 1\n",
        "      if value not in field_category_to_number[field]: # add value if not seen yet\n",
        "        field_category_to_number[field][value] = field_category_i[field]\n",
        "        field_category_i[field] += 1\n",
        "      df.at[i, field] = field_category_to_number[field][value]\n",
        "  return field_category_to_number\n",
        "\n",
        "# a dictionary containing a field's string to number lookup\n",
        "field_category_to_number = categorizeStringFields(df_cleaned, string_fields)"
      ],
      "execution_count": null,
      "outputs": []
    },
    {
      "cell_type": "markdown",
      "metadata": {
        "id": "Yirf2YvU3fN_"
      },
      "source": [
        "Fields that are dates, ignore for now, need to come up with an encoding scheme."
      ]
    },
    {
      "cell_type": "code",
      "metadata": {
        "id": "ncnvDpcD3oBz"
      },
      "source": [
        "date_fields = [\n",
        "  'PWD_UPDT_TS',\n",
        "  'PH_NUM_UPDT_TS',\n",
        "  'CUST_SINCE_DT',\n",
        "  'TRAN_TS',\n",
        "  'TRAN_DT',\n",
        "  'ACTVY_DT',\n",
        "]"
      ],
      "execution_count": null,
      "outputs": []
    },
    {
      "cell_type": "markdown",
      "metadata": {
        "id": "tYYgDuSV7-xe"
      },
      "source": [
        "Split the contents of the Downloaded set into a Training and Testing set using a 80%, 20% split."
      ]
    },
    {
      "cell_type": "code",
      "metadata": {
        "colab": {
          "base_uri": "https://localhost:8080/"
        },
        "id": "vouEZPP98mF8",
        "outputId": "22b15d46-e25d-444a-a67a-60095ca52aff"
      },
      "source": [
        "# select a random 80% as the training, 20% as testing\n",
        "train_partition = df_cleaned.sample(frac = 0.8, random_state = 7892) # put in a random_state seed value\n",
        "test_partition = df_cleaned.drop(train_partition.index) # then drop the indexes of the training set to create the testing set\n",
        "\n",
        "# then eliminate columns we are not using\n",
        "train = train_partition.drop(['FRAUD_NONFRAUD'], axis=1)\n",
        "test = test_partition.drop(['FRAUD_NONFRAUD'], axis=1)\n",
        "train_labels = train_partition[['FRAUD_NONFRAUD']]\n",
        "test_labels = test_partition[['FRAUD_NONFRAUD']]\n",
        "\n",
        "#train_tensors = torch.from_numpy(train.values).float().to(device)\n",
        "\n",
        "print('Training Set Size: %d' % len(train_partition))\n",
        "print('Testing Set Size: %d' % len(test_partition))"
      ],
      "execution_count": null,
      "outputs": [
        {
          "output_type": "stream",
          "name": "stdout",
          "text": [
            "Training Set Size: 11200\n",
            "Testing Set Size: 2800\n"
          ]
        }
      ]
    },
    {
      "cell_type": "markdown",
      "metadata": {
        "id": "D7oARq5OM-s-"
      },
      "source": [
        "# Create the Neural Network"
      ]
    },
    {
      "cell_type": "markdown",
      "metadata": {
        "id": "HRU_YUab_12S"
      },
      "source": [
        "Now we can go ahead and setup a Neural Network and its layers."
      ]
    },
    {
      "cell_type": "code",
      "metadata": {
        "id": "hBBsryWm_6dA"
      },
      "source": [
        "class NeuralNetwork(nn.Module):\n",
        "  def __init__(self, number_fields, field_category_to_number):\n",
        "    super(NeuralNetwork, self).__init__()\n",
        "\n",
        "    # allocate the integer tensors\n",
        "    self.number_fields = number_fields\n",
        "    self.number_tensors = len(number_fields)\n",
        "\n",
        "    # create the string embeddings\n",
        "    self.field_category_to_number = field_category_to_number\n",
        "    self.string_embeds = {} # field->embedding\n",
        "    self.string_tensors = 0\n",
        "    for field, categories in field_category_to_number.items():\n",
        "      num_categories = len(categories)\n",
        "      dimensions = int(math.sqrt(num_categories))\n",
        "      self.string_embeds[field] = nn.Embedding(len(categories), dimensions)\n",
        "      self.string_tensors += dimensions\n",
        "\n",
        "    self.linear_relu_stack = nn.Sequential(\n",
        "        nn.Linear(self.number_tensors + self.string_tensors, 16),\n",
        "        nn.ReLU(),\n",
        "        nn.Linear(16,8),\n",
        "        nn.ReLU(),\n",
        "        nn.Linear(8, 1), # 1 output column (aka boolean Fraud/NoFraud)\n",
        "        nn.ReLU(),\n",
        "    )\n",
        "  \n",
        "  def forward(self, x):\n",
        "    logits = self.linear_relu_stack(x)\n",
        "    return logits\n",
        "\n",
        "  def generateTensor(self, row):\n",
        "    string_tensor = self.generateStringTensor(row)\n",
        "    number_tensor = self.generateNumberTensor(row)\n",
        "    return torch.cat((number_tensor, string_tensor))\n",
        "\n",
        "  def generateNumberTensor(self, row):\n",
        "    tensor = None\n",
        "    for field in self.number_fields:\n",
        "      value = row[field]\n",
        "      value_tensor = torch.tensor([value], dtype=torch.float32)\n",
        "      #value_tensor = torch.nan_to_num(value_tensor) \n",
        "      tensor = value_tensor if tensor is None else torch.cat((tensor, value_tensor))\n",
        "    return tensor\n",
        "\n",
        "\n",
        "  def generateStringTensor(self, row):\n",
        "    tensor = None\n",
        "    for field, categories in self.field_category_to_number.items():\n",
        "      value = row[field]\n",
        "      lookup_tensor = torch.tensor(value, dtype=torch.long)\n",
        "      field_tensor = self.string_embeds[field](lookup_tensor)\n",
        "      tensor = field_tensor if tensor is None else torch.cat((tensor, field_tensor))\n",
        "    return tensor"
      ],
      "execution_count": null,
      "outputs": []
    },
    {
      "cell_type": "markdown",
      "metadata": {
        "id": "OqM4aGCANF0b"
      },
      "source": [
        "# Train the Model with the Training Set"
      ]
    },
    {
      "cell_type": "code",
      "metadata": {
        "colab": {
          "base_uri": "https://localhost:8080/"
        },
        "id": "ugnx6ueXH8OG",
        "outputId": "788e0802-39fd-4352-efa7-c4268bc8ae28"
      },
      "source": [
        "model = NeuralNetwork(number_fields, field_category_to_number).to(device)\n",
        "loss_fn = nn.MSELoss()\n",
        "optimizer = optim.SGD(model.parameters(), lr=0.0001)\n",
        "\n",
        "for epoch in range(20): # 10 epochs\n",
        "  print(epoch)\n",
        "  for index, row in train.iterrows():\n",
        "    label = 1 if train_labels[output_column].loc[index] == output_labels[1] else 0\n",
        "    label_tensor = torch.Tensor([label])\n",
        "    tensors = model.generateTensor(row)\n",
        "\n",
        "    model.zero_grad()\n",
        "    output = model(tensors)\n",
        "    loss = loss_fn(output, label_tensor)\n",
        "    loss.backward()\n",
        "\n",
        "    optimizer.step()"
      ],
      "execution_count": null,
      "outputs": [
        {
          "output_type": "stream",
          "name": "stdout",
          "text": [
            "0\n",
            "1\n",
            "2\n",
            "3\n",
            "4\n",
            "5\n",
            "6\n",
            "7\n",
            "8\n",
            "9\n",
            "10\n",
            "11\n",
            "12\n",
            "13\n",
            "14\n",
            "15\n",
            "16\n",
            "17\n",
            "18\n",
            "19\n"
          ]
        }
      ]
    },
    {
      "cell_type": "markdown",
      "metadata": {
        "id": "S4AKtQy_NKbR"
      },
      "source": [
        "# Test the Model against the Testing Set"
      ]
    },
    {
      "cell_type": "code",
      "metadata": {
        "colab": {
          "base_uri": "https://localhost:8080/"
        },
        "id": "g7a9cxOnQD4Z",
        "outputId": "f945b38b-7cd5-4ddd-aca2-b884d76134c4"
      },
      "source": [
        "tp = 0\n",
        "fp = 0\n",
        "tn = 0\n",
        "fn = 0\n",
        "\n",
        "for index, row in test.iterrows():\n",
        "  label = 1 if test_labels[output_column].loc[index] == output_labels[1] else 0\n",
        "  label_tensor = torch.Tensor([label])\n",
        "  label_tensor = label_tensor.to(torch.bool).item()\n",
        "  tensors = model.generateTensor(row)\n",
        "\n",
        "  output = model(tensors).item()\n",
        "  \n",
        "  if output >= .5 and label_tensor:\n",
        "    tp += 1\n",
        "  elif output >= .5 and not label_tensor:\n",
        "    fp += 1\n",
        "  elif output < .5 and not label_tensor:\n",
        "    tn += 1\n",
        "  elif output < .5 and label_tensor:\n",
        "    fn += 1\n",
        "    \n",
        "accuracy = (tp + tn) / (tp + tn + fp + fn)\n",
        "precision = (tp) / (tp + fp)\n",
        "recall = (tp) / (tp + fn)\n",
        "f1 = 2 * (recall * precision) / (recall + precision)\n",
        "print(\"TP:\", tp, \"FP:\", fp, \"TN:\", tn, \"FN:\", fn)\n",
        "print(\"Accuracy:\", accuracy)\n",
        "print(\"Precision:\", precision)\n",
        "print(\"Recall:\", recall)\n",
        "print(\"F1:\", f1)"
      ],
      "execution_count": null,
      "outputs": [
        {
          "output_type": "stream",
          "name": "stdout",
          "text": [
            "TP: 447 FP: 211 TN: 1784 FN: 358\n",
            "Accuracy: 0.7967857142857143\n",
            "Precision: 0.6793313069908815\n",
            "Recall: 0.55527950310559\n",
            "F1: 0.6110731373889268\n"
          ]
        }
      ]
    }
  ]
}